{
 "cells": [
  {
   "cell_type": "markdown",
   "id": "5557c4c8-420c-4817-b591-7b2abd68fc29",
   "metadata": {},
   "source": [
    "# Data Science Tools and Ecosystem"
   ]
  },
  {
   "cell_type": "markdown",
   "id": "f37c2a33-a7e4-43ca-8bc1-143c74da2fad",
   "metadata": {},
   "source": [
    "In this notebook, Data Science Tools and Ecosystem are summarized."
   ]
  },
  {
   "cell_type": "markdown",
   "id": "5c16177e-95ff-4ee1-ab92-7c0baf05c322",
   "metadata": {},
   "source": [
    "Some of the popular languages that Data Scientists use are: \n",
    "\n",
    "1. Python\n",
    "2. R\n",
    "3. SQL\n",
    "4. Java"
   ]
  },
  {
   "cell_type": "markdown",
   "id": "53e491d0-c268-4b98-8bd0-9b6ef1ac7a9c",
   "metadata": {},
   "source": [
    "Some of the commonly used libraries used by Data Scientists include:\n",
    "\n",
    "1. Pandas (Python)\n",
    "2. NumPy (Python)\n",
    "3. dplyr (R)\n",
    "4. data.table (R)\n",
    "5. Matplotlib (Python)\n",
    "6. Seaborn (Python)\n",
    "7. ggplot2 (R)\n",
    "8. Plotly (Python and R)\n",
    "9. scikit-learn (Python)\n",
    "10. TensorFlow (Python)\n",
    "11. Keras (Python)\n",
    "12. PyTorch (Python)\n",
    "13. caret (R):"
   ]
  },
  {
   "cell_type": "markdown",
   "id": "e0458204-802a-4e67-b0ee-fce1291e4fe7",
   "metadata": {},
   "source": [
    "| Data Science Tools        |\n",
    "|---------------------------|\n",
    "| Jupyter Notebook          |\n",
    "| RStudio                   |\n",
    "| Apache Zeppelin           |"
   ]
  },
  {
   "cell_type": "markdown",
   "id": "0157b700-85d5-46aa-9ad6-530021a507ac",
   "metadata": {},
   "source": [
    "### Below are a few examples of evaluating arithmetic expressions in Python."
   ]
  },
  {
   "cell_type": "code",
   "execution_count": 11,
   "id": "0eedd53b-677a-47a1-808c-5531e18f9454",
   "metadata": {},
   "outputs": [
    {
     "name": "stdout",
     "output_type": "stream",
     "text": [
      "17\n"
     ]
    }
   ],
   "source": [
    "# This is a simple arithmetic expression to multiply then add integers\n",
    "\n",
    "result = (3 * 4) + 5\n",
    "print(result)\n"
   ]
  },
  {
   "cell_type": "code",
   "execution_count": 13,
   "id": "2640bd10-b074-4af2-bcbc-ef94e7bb072e",
   "metadata": {},
   "outputs": [
    {
     "name": "stdout",
     "output_type": "stream",
     "text": [
      "3.3333333333333335\n"
     ]
    }
   ],
   "source": [
    "# This will convert 200 minutes to hours by dividing by 60\n",
    "hours = 200 / 60\n",
    "print(hours)\n"
   ]
  },
  {
   "cell_type": "markdown",
   "id": "031b0c89-e34e-47da-a49e-5acdce0a35a2",
   "metadata": {},
   "source": [
    "#### Objectives\n",
    "\n",
    "- Create a Jupyter Notebook with markdown and code cells\n",
    "- List examples of languages, libraries and tools used in Data Science\n",
    "- Share your Jupyter Notebook publicly on GitHub\n",
    "- Evaluate notebooks submitted by your peers using the provided rubric\n",
    "- Demonstrate proficiency in Data Science toolkit knowledge"
   ]
  },
  {
   "cell_type": "markdown",
   "id": "ac7552af-1052-4e67-8442-778563128da7",
   "metadata": {},
   "source": [
    "## Author\n",
    "\n",
    "Christian Brandt\n"
   ]
  },
  {
   "cell_type": "code",
   "execution_count": null,
   "id": "f94b9c64-5e25-439f-abe4-ecf79728c01a",
   "metadata": {},
   "outputs": [],
   "source": []
  }
 ],
 "metadata": {
  "kernelspec": {
   "display_name": "Python [conda env:base] *",
   "language": "python",
   "name": "conda-base-py"
  },
  "language_info": {
   "codemirror_mode": {
    "name": "ipython",
    "version": 3
   },
   "file_extension": ".py",
   "mimetype": "text/x-python",
   "name": "python",
   "nbconvert_exporter": "python",
   "pygments_lexer": "ipython3",
   "version": "3.12.7"
  }
 },
 "nbformat": 4,
 "nbformat_minor": 5
}
